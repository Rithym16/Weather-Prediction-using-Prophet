{
 "cells": [
  {
   "cell_type": "code",
   "execution_count": null,
   "id": "ddad9dd8-30bf-4dd3-a7d2-63fd77bd1ef4",
   "metadata": {},
   "outputs": [],
   "source": [
    "#0. Install and Import Dependencies"
   ]
  },
  {
   "cell_type": "code",
   "execution_count": 1,
   "id": "f7d0cb91-c639-4b8a-a205-9757c65ec8fc",
   "metadata": {},
   "outputs": [
    {
     "name": "stdout",
     "output_type": "stream",
     "text": [
      "Requirement already satisfied: neuralprophet in c:\\python312\\lib\\site-packages (0.8.0)\n",
      "Requirement already satisfied: captum>=0.6.0 in c:\\python312\\lib\\site-packages (from neuralprophet) (0.7.0)\n",
      "Requirement already satisfied: holidays>=0.41 in c:\\python312\\lib\\site-packages (from neuralprophet) (0.47)\n",
      "Requirement already satisfied: matplotlib<4.0.0,>=3.5.3 in c:\\python312\\lib\\site-packages (from neuralprophet) (3.8.4)\n",
      "Requirement already satisfied: nbformat<6.0.0,>=5.8.0 in c:\\python312\\lib\\site-packages (from neuralprophet) (5.10.3)\n",
      "Requirement already satisfied: numpy<2.0.0,>=1.25.0 in c:\\python312\\lib\\site-packages (from neuralprophet) (1.26.4)\n",
      "Requirement already satisfied: pandas<3.0.0,>=2.0.0 in c:\\python312\\lib\\site-packages (from neuralprophet) (2.2.2)\n",
      "Requirement already satisfied: plotly<6.0.0,>=5.13.1 in c:\\python312\\lib\\site-packages (from neuralprophet) (5.22.0)\n",
      "Requirement already satisfied: pytorch-lightning<2.0.0,>=1.9.4 in c:\\python312\\lib\\site-packages (from neuralprophet) (1.9.5)\n",
      "Requirement already satisfied: tensorboard<3.0.0,>=2.11.2 in c:\\python312\\lib\\site-packages (from neuralprophet) (2.16.2)\n",
      "Requirement already satisfied: torch<3.0.0,>=2.0.0 in c:\\python312\\lib\\site-packages (from neuralprophet) (2.3.0)\n",
      "Requirement already satisfied: torchmetrics<2.0.0,>=1.0.0 in c:\\python312\\lib\\site-packages (from neuralprophet) (1.3.2)\n",
      "Requirement already satisfied: typing-extensions<5.0.0,>=4.5.0 in c:\\python312\\lib\\site-packages (from neuralprophet) (4.11.0)\n",
      "Requirement already satisfied: tqdm in c:\\python312\\lib\\site-packages (from captum>=0.6.0->neuralprophet) (4.66.4)\n",
      "Requirement already satisfied: python-dateutil in c:\\users\\amrit kumar tiwari\\appdata\\roaming\\python\\python312\\site-packages (from holidays>=0.41->neuralprophet) (2.9.0.post0)\n",
      "Requirement already satisfied: contourpy>=1.0.1 in c:\\python312\\lib\\site-packages (from matplotlib<4.0.0,>=3.5.3->neuralprophet) (1.2.1)\n",
      "Requirement already satisfied: cycler>=0.10 in c:\\python312\\lib\\site-packages (from matplotlib<4.0.0,>=3.5.3->neuralprophet) (0.12.1)\n",
      "Requirement already satisfied: fonttools>=4.22.0 in c:\\python312\\lib\\site-packages (from matplotlib<4.0.0,>=3.5.3->neuralprophet) (4.51.0)\n",
      "Requirement already satisfied: kiwisolver>=1.3.1 in c:\\python312\\lib\\site-packages (from matplotlib<4.0.0,>=3.5.3->neuralprophet) (1.4.5)\n",
      "Requirement already satisfied: packaging>=20.0 in c:\\users\\amrit kumar tiwari\\appdata\\roaming\\python\\python312\\site-packages (from matplotlib<4.0.0,>=3.5.3->neuralprophet) (24.0)\n",
      "Requirement already satisfied: pillow>=8 in c:\\python312\\lib\\site-packages (from matplotlib<4.0.0,>=3.5.3->neuralprophet) (10.3.0)\n",
      "Requirement already satisfied: pyparsing>=2.3.1 in c:\\python312\\lib\\site-packages (from matplotlib<4.0.0,>=3.5.3->neuralprophet) (3.1.2)\n",
      "Requirement already satisfied: fastjsonschema in c:\\python312\\lib\\site-packages (from nbformat<6.0.0,>=5.8.0->neuralprophet) (2.19.1)\n",
      "Requirement already satisfied: jsonschema>=2.6 in c:\\python312\\lib\\site-packages (from nbformat<6.0.0,>=5.8.0->neuralprophet) (4.21.1)\n",
      "Requirement already satisfied: jupyter-core in c:\\users\\amrit kumar tiwari\\appdata\\roaming\\python\\python312\\site-packages (from nbformat<6.0.0,>=5.8.0->neuralprophet) (5.7.2)\n",
      "Requirement already satisfied: traitlets>=5.1 in c:\\users\\amrit kumar tiwari\\appdata\\roaming\\python\\python312\\site-packages (from nbformat<6.0.0,>=5.8.0->neuralprophet) (5.14.2)\n",
      "Requirement already satisfied: pytz>=2020.1 in c:\\python312\\lib\\site-packages (from pandas<3.0.0,>=2.0.0->neuralprophet) (2024.1)\n",
      "Requirement already satisfied: tzdata>=2022.7 in c:\\python312\\lib\\site-packages (from pandas<3.0.0,>=2.0.0->neuralprophet) (2024.1)\n",
      "Requirement already satisfied: tenacity>=6.2.0 in c:\\python312\\lib\\site-packages (from plotly<6.0.0,>=5.13.1->neuralprophet) (8.2.3)\n",
      "Requirement already satisfied: PyYAML>=5.4 in c:\\python312\\lib\\site-packages (from pytorch-lightning<2.0.0,>=1.9.4->neuralprophet) (6.0.1)\n",
      "Requirement already satisfied: fsspec>2021.06.0 in c:\\python312\\lib\\site-packages (from fsspec[http]>2021.06.0->pytorch-lightning<2.0.0,>=1.9.4->neuralprophet) (2024.3.1)\n",
      "Requirement already satisfied: lightning-utilities>=0.6.0.post0 in c:\\python312\\lib\\site-packages (from pytorch-lightning<2.0.0,>=1.9.4->neuralprophet) (0.11.2)\n",
      "Requirement already satisfied: absl-py>=0.4 in c:\\python312\\lib\\site-packages (from tensorboard<3.0.0,>=2.11.2->neuralprophet) (2.1.0)\n",
      "Requirement already satisfied: grpcio>=1.48.2 in c:\\python312\\lib\\site-packages (from tensorboard<3.0.0,>=2.11.2->neuralprophet) (1.63.0)\n",
      "Requirement already satisfied: markdown>=2.6.8 in c:\\python312\\lib\\site-packages (from tensorboard<3.0.0,>=2.11.2->neuralprophet) (3.6)\n",
      "Requirement already satisfied: protobuf!=4.24.0,>=3.19.6 in c:\\python312\\lib\\site-packages (from tensorboard<3.0.0,>=2.11.2->neuralprophet) (5.26.1)\n",
      "Requirement already satisfied: setuptools>=41.0.0 in c:\\python312\\lib\\site-packages (from tensorboard<3.0.0,>=2.11.2->neuralprophet) (69.5.1)\n",
      "Requirement already satisfied: six>1.9 in c:\\users\\amrit kumar tiwari\\appdata\\roaming\\python\\python312\\site-packages (from tensorboard<3.0.0,>=2.11.2->neuralprophet) (1.16.0)\n",
      "Requirement already satisfied: tensorboard-data-server<0.8.0,>=0.7.0 in c:\\python312\\lib\\site-packages (from tensorboard<3.0.0,>=2.11.2->neuralprophet) (0.7.2)\n",
      "Requirement already satisfied: werkzeug>=1.0.1 in c:\\python312\\lib\\site-packages (from tensorboard<3.0.0,>=2.11.2->neuralprophet) (3.0.2)\n",
      "Requirement already satisfied: filelock in c:\\python312\\lib\\site-packages (from torch<3.0.0,>=2.0.0->neuralprophet) (3.13.4)\n",
      "Requirement already satisfied: sympy in c:\\python312\\lib\\site-packages (from torch<3.0.0,>=2.0.0->neuralprophet) (1.12)\n",
      "Requirement already satisfied: networkx in c:\\python312\\lib\\site-packages (from torch<3.0.0,>=2.0.0->neuralprophet) (3.3)\n",
      "Requirement already satisfied: jinja2 in c:\\python312\\lib\\site-packages (from torch<3.0.0,>=2.0.0->neuralprophet) (3.1.3)\n",
      "Requirement already satisfied: mkl<=2021.4.0,>=2021.1.1 in c:\\python312\\lib\\site-packages (from torch<3.0.0,>=2.0.0->neuralprophet) (2021.4.0)\n",
      "Requirement already satisfied: aiohttp!=4.0.0a0,!=4.0.0a1 in c:\\python312\\lib\\site-packages (from fsspec[http]>2021.06.0->pytorch-lightning<2.0.0,>=1.9.4->neuralprophet) (3.9.5)\n",
      "Requirement already satisfied: attrs>=22.2.0 in c:\\python312\\lib\\site-packages (from jsonschema>=2.6->nbformat<6.0.0,>=5.8.0->neuralprophet) (23.2.0)\n",
      "Requirement already satisfied: jsonschema-specifications>=2023.03.6 in c:\\python312\\lib\\site-packages (from jsonschema>=2.6->nbformat<6.0.0,>=5.8.0->neuralprophet) (2023.12.1)\n",
      "Requirement already satisfied: referencing>=0.28.4 in c:\\python312\\lib\\site-packages (from jsonschema>=2.6->nbformat<6.0.0,>=5.8.0->neuralprophet) (0.34.0)\n",
      "Requirement already satisfied: rpds-py>=0.7.1 in c:\\python312\\lib\\site-packages (from jsonschema>=2.6->nbformat<6.0.0,>=5.8.0->neuralprophet) (0.18.0)\n",
      "Requirement already satisfied: intel-openmp==2021.* in c:\\python312\\lib\\site-packages (from mkl<=2021.4.0,>=2021.1.1->torch<3.0.0,>=2.0.0->neuralprophet) (2021.4.0)\n",
      "Requirement already satisfied: tbb==2021.* in c:\\python312\\lib\\site-packages (from mkl<=2021.4.0,>=2021.1.1->torch<3.0.0,>=2.0.0->neuralprophet) (2021.12.0)\n",
      "Requirement already satisfied: colorama in c:\\users\\amrit kumar tiwari\\appdata\\roaming\\python\\python312\\site-packages (from tqdm->captum>=0.6.0->neuralprophet) (0.4.6)\n",
      "Requirement already satisfied: MarkupSafe>=2.1.1 in c:\\python312\\lib\\site-packages (from werkzeug>=1.0.1->tensorboard<3.0.0,>=2.11.2->neuralprophet) (2.1.5)\n",
      "Requirement already satisfied: platformdirs>=2.5 in c:\\users\\amrit kumar tiwari\\appdata\\roaming\\python\\python312\\site-packages (from jupyter-core->nbformat<6.0.0,>=5.8.0->neuralprophet) (4.2.0)\n",
      "Requirement already satisfied: pywin32>=300 in c:\\users\\amrit kumar tiwari\\appdata\\roaming\\python\\python312\\site-packages (from jupyter-core->nbformat<6.0.0,>=5.8.0->neuralprophet) (306)\n",
      "Requirement already satisfied: mpmath>=0.19 in c:\\python312\\lib\\site-packages (from sympy->torch<3.0.0,>=2.0.0->neuralprophet) (1.3.0)\n",
      "Requirement already satisfied: aiosignal>=1.1.2 in c:\\python312\\lib\\site-packages (from aiohttp!=4.0.0a0,!=4.0.0a1->fsspec[http]>2021.06.0->pytorch-lightning<2.0.0,>=1.9.4->neuralprophet) (1.3.1)\n",
      "Requirement already satisfied: frozenlist>=1.1.1 in c:\\python312\\lib\\site-packages (from aiohttp!=4.0.0a0,!=4.0.0a1->fsspec[http]>2021.06.0->pytorch-lightning<2.0.0,>=1.9.4->neuralprophet) (1.4.1)\n",
      "Requirement already satisfied: multidict<7.0,>=4.5 in c:\\python312\\lib\\site-packages (from aiohttp!=4.0.0a0,!=4.0.0a1->fsspec[http]>2021.06.0->pytorch-lightning<2.0.0,>=1.9.4->neuralprophet) (6.0.5)\n",
      "Requirement already satisfied: yarl<2.0,>=1.0 in c:\\python312\\lib\\site-packages (from aiohttp!=4.0.0a0,!=4.0.0a1->fsspec[http]>2021.06.0->pytorch-lightning<2.0.0,>=1.9.4->neuralprophet) (1.9.4)\n",
      "Requirement already satisfied: idna>=2.0 in c:\\python312\\lib\\site-packages (from yarl<2.0,>=1.0->aiohttp!=4.0.0a0,!=4.0.0a1->fsspec[http]>2021.06.0->pytorch-lightning<2.0.0,>=1.9.4->neuralprophet) (3.6)\n"
     ]
    }
   ],
   "source": [
    "!pip install neuralprophet"
   ]
  },
  {
   "cell_type": "code",
   "execution_count": 2,
   "id": "f1c91fd5-8235-4840-8092-fadeda290944",
   "metadata": {},
   "outputs": [],
   "source": [
    "import pandas as pd\n",
    "from neuralprophet import NeuralProphet\n",
    "from matplotlib import pyplot as plt\n",
    "import pickle"
   ]
  },
  {
   "cell_type": "code",
   "execution_count": null,
   "id": "d3238f24-4b14-4d65-98ee-ecf29b069d7a",
   "metadata": {},
   "outputs": [],
   "source": [
    "# 1. Read in Data and Process Dates"
   ]
  },
  {
   "cell_type": "code",
   "execution_count": 3,
   "id": "f2707078-d62a-4e87-a616-6fe9c215bff6",
   "metadata": {},
   "outputs": [
    {
     "data": {
      "text/html": [
       "<div>\n",
       "<style scoped>\n",
       "    .dataframe tbody tr th:only-of-type {\n",
       "        vertical-align: middle;\n",
       "    }\n",
       "\n",
       "    .dataframe tbody tr th {\n",
       "        vertical-align: top;\n",
       "    }\n",
       "\n",
       "    .dataframe thead th {\n",
       "        text-align: right;\n",
       "    }\n",
       "</style>\n",
       "<table border=\"1\" class=\"dataframe\">\n",
       "  <thead>\n",
       "    <tr style=\"text-align: right;\">\n",
       "      <th></th>\n",
       "      <th>time</th>\n",
       "      <th>tavg</th>\n",
       "      <th>tmin</th>\n",
       "      <th>tmax</th>\n",
       "      <th>prcp</th>\n",
       "    </tr>\n",
       "  </thead>\n",
       "  <tbody>\n",
       "    <tr>\n",
       "      <th>0</th>\n",
       "      <td>01-01-1990</td>\n",
       "      <td>22.9</td>\n",
       "      <td>19.1</td>\n",
       "      <td>28.4</td>\n",
       "      <td>NaN</td>\n",
       "    </tr>\n",
       "    <tr>\n",
       "      <th>1</th>\n",
       "      <td>02-01-1990</td>\n",
       "      <td>21.7</td>\n",
       "      <td>NaN</td>\n",
       "      <td>26.5</td>\n",
       "      <td>0.0</td>\n",
       "    </tr>\n",
       "    <tr>\n",
       "      <th>2</th>\n",
       "      <td>03-01-1990</td>\n",
       "      <td>21.0</td>\n",
       "      <td>16.4</td>\n",
       "      <td>26.5</td>\n",
       "      <td>0.0</td>\n",
       "    </tr>\n",
       "    <tr>\n",
       "      <th>3</th>\n",
       "      <td>04-01-1990</td>\n",
       "      <td>20.8</td>\n",
       "      <td>NaN</td>\n",
       "      <td>27.4</td>\n",
       "      <td>0.0</td>\n",
       "    </tr>\n",
       "    <tr>\n",
       "      <th>4</th>\n",
       "      <td>05-01-1990</td>\n",
       "      <td>20.4</td>\n",
       "      <td>14.2</td>\n",
       "      <td>26.1</td>\n",
       "      <td>0.0</td>\n",
       "    </tr>\n",
       "  </tbody>\n",
       "</table>\n",
       "</div>"
      ],
      "text/plain": [
       "         time  tavg  tmin  tmax  prcp\n",
       "0  01-01-1990  22.9  19.1  28.4   NaN\n",
       "1  02-01-1990  21.7   NaN  26.5   0.0\n",
       "2  03-01-1990  21.0  16.4  26.5   0.0\n",
       "3  04-01-1990  20.8   NaN  27.4   0.0\n",
       "4  05-01-1990  20.4  14.2  26.1   0.0"
      ]
     },
     "execution_count": 3,
     "metadata": {},
     "output_type": "execute_result"
    }
   ],
   "source": [
    "df = pd.read_csv('Bangalore_1990_2022_weather.csv')\n",
    "df.head()"
   ]
  },
  {
   "cell_type": "code",
   "execution_count": 4,
   "id": "94ede393-4d8d-473f-a9e0-64c0d3abb0dd",
   "metadata": {},
   "outputs": [
    {
     "data": {
      "text/plain": [
       "time     object\n",
       "tavg    float64\n",
       "tmin    float64\n",
       "tmax    float64\n",
       "prcp    float64\n",
       "dtype: object"
      ]
     },
     "execution_count": 4,
     "metadata": {},
     "output_type": "execute_result"
    }
   ],
   "source": [
    "df.dtypes"
   ]
  },
  {
   "cell_type": "code",
   "execution_count": 5,
   "id": "cc87399f-fabc-4cbe-a603-c3383223a6fe",
   "metadata": {},
   "outputs": [
    {
     "data": {
      "text/html": [
       "<div>\n",
       "<style scoped>\n",
       "    .dataframe tbody tr th:only-of-type {\n",
       "        vertical-align: middle;\n",
       "    }\n",
       "\n",
       "    .dataframe tbody tr th {\n",
       "        vertical-align: top;\n",
       "    }\n",
       "\n",
       "    .dataframe thead th {\n",
       "        text-align: right;\n",
       "    }\n",
       "</style>\n",
       "<table border=\"1\" class=\"dataframe\">\n",
       "  <thead>\n",
       "    <tr style=\"text-align: right;\">\n",
       "      <th></th>\n",
       "      <th>time</th>\n",
       "      <th>tavg</th>\n",
       "      <th>tmin</th>\n",
       "      <th>tmax</th>\n",
       "      <th>prcp</th>\n",
       "    </tr>\n",
       "  </thead>\n",
       "  <tbody>\n",
       "    <tr>\n",
       "      <th>0</th>\n",
       "      <td>1990-01-01</td>\n",
       "      <td>22.9</td>\n",
       "      <td>19.1</td>\n",
       "      <td>28.4</td>\n",
       "      <td>NaN</td>\n",
       "    </tr>\n",
       "    <tr>\n",
       "      <th>1</th>\n",
       "      <td>1990-01-02</td>\n",
       "      <td>21.7</td>\n",
       "      <td>NaN</td>\n",
       "      <td>26.5</td>\n",
       "      <td>0.0</td>\n",
       "    </tr>\n",
       "    <tr>\n",
       "      <th>2</th>\n",
       "      <td>1990-01-03</td>\n",
       "      <td>21.0</td>\n",
       "      <td>16.4</td>\n",
       "      <td>26.5</td>\n",
       "      <td>0.0</td>\n",
       "    </tr>\n",
       "    <tr>\n",
       "      <th>3</th>\n",
       "      <td>1990-01-04</td>\n",
       "      <td>20.8</td>\n",
       "      <td>NaN</td>\n",
       "      <td>27.4</td>\n",
       "      <td>0.0</td>\n",
       "    </tr>\n",
       "    <tr>\n",
       "      <th>4</th>\n",
       "      <td>1990-01-05</td>\n",
       "      <td>20.4</td>\n",
       "      <td>14.2</td>\n",
       "      <td>26.1</td>\n",
       "      <td>0.0</td>\n",
       "    </tr>\n",
       "  </tbody>\n",
       "</table>\n",
       "</div>"
      ],
      "text/plain": [
       "        time  tavg  tmin  tmax  prcp\n",
       "0 1990-01-01  22.9  19.1  28.4   NaN\n",
       "1 1990-01-02  21.7   NaN  26.5   0.0\n",
       "2 1990-01-03  21.0  16.4  26.5   0.0\n",
       "3 1990-01-04  20.8   NaN  27.4   0.0\n",
       "4 1990-01-05  20.4  14.2  26.1   0.0"
      ]
     },
     "execution_count": 5,
     "metadata": {},
     "output_type": "execute_result"
    }
   ],
   "source": [
    "df['time'] = pd.to_datetime(df['time'], format='%d-%m-%Y')\n",
    "df.head()"
   ]
  },
  {
   "cell_type": "code",
   "execution_count": 21,
   "id": "062bbbc5-e795-4379-87d5-6f345a5b9a26",
   "metadata": {},
   "outputs": [
    {
     "name": "stderr",
     "output_type": "stream",
     "text": [
      "WARNING - (py.warnings._showwarnmsg) - C:\\Users\\amrit kumar tiwari\\AppData\\Local\\Temp\\ipykernel_27156\\959052012.py:2: SettingWithCopyWarning: \n",
      "A value is trying to be set on a copy of a slice from a DataFrame\n",
      "\n",
      "See the caveats in the documentation: https://pandas.pydata.org/pandas-docs/stable/user_guide/indexing.html#returning-a-view-versus-a-copy\n",
      "  dt.dropna(inplace=True)\n",
      "\n"
     ]
    },
    {
     "data": {
      "text/html": [
       "<div>\n",
       "<style scoped>\n",
       "    .dataframe tbody tr th:only-of-type {\n",
       "        vertical-align: middle;\n",
       "    }\n",
       "\n",
       "    .dataframe tbody tr th {\n",
       "        vertical-align: top;\n",
       "    }\n",
       "\n",
       "    .dataframe thead th {\n",
       "        text-align: right;\n",
       "    }\n",
       "</style>\n",
       "<table border=\"1\" class=\"dataframe\">\n",
       "  <thead>\n",
       "    <tr style=\"text-align: right;\">\n",
       "      <th></th>\n",
       "      <th>ds</th>\n",
       "      <th>y</th>\n",
       "    </tr>\n",
       "  </thead>\n",
       "  <tbody>\n",
       "    <tr>\n",
       "      <th>0</th>\n",
       "      <td>1990-01-01</td>\n",
       "      <td>22.9</td>\n",
       "    </tr>\n",
       "    <tr>\n",
       "      <th>1</th>\n",
       "      <td>1990-01-02</td>\n",
       "      <td>21.7</td>\n",
       "    </tr>\n",
       "    <tr>\n",
       "      <th>2</th>\n",
       "      <td>1990-01-03</td>\n",
       "      <td>21.0</td>\n",
       "    </tr>\n",
       "    <tr>\n",
       "      <th>3</th>\n",
       "      <td>1990-01-04</td>\n",
       "      <td>20.8</td>\n",
       "    </tr>\n",
       "    <tr>\n",
       "      <th>4</th>\n",
       "      <td>1990-01-05</td>\n",
       "      <td>20.4</td>\n",
       "    </tr>\n",
       "  </tbody>\n",
       "</table>\n",
       "</div>"
      ],
      "text/plain": [
       "          ds     y\n",
       "0 1990-01-01  22.9\n",
       "1 1990-01-02  21.7\n",
       "2 1990-01-03  21.0\n",
       "3 1990-01-04  20.8\n",
       "4 1990-01-05  20.4"
      ]
     },
     "execution_count": 21,
     "metadata": {},
     "output_type": "execute_result"
    }
   ],
   "source": [
    "dt = df[['time','tavg']]\n",
    "dt.dropna(inplace=True)\n",
    "dt.columns = ['ds','y']\n",
    "dt.head()"
   ]
  },
  {
   "cell_type": "code",
   "execution_count": 22,
   "id": "ad5895ce-545d-492b-9d82-bfcf035ae536",
   "metadata": {},
   "outputs": [
    {
     "data": {
      "text/plain": [
       "y    23.840426\n",
       "dtype: float64"
      ]
     },
     "execution_count": 22,
     "metadata": {},
     "output_type": "execute_result"
    }
   ],
   "source": [
    "dt.mean(numeric_only=True)"
   ]
  },
  {
   "cell_type": "code",
   "execution_count": 23,
   "id": "3ec87fe7-c60a-43b5-bf1a-3668736188f8",
   "metadata": {},
   "outputs": [
    {
     "data": {
      "text/plain": [
       "y    23.5\n",
       "dtype: float64"
      ]
     },
     "execution_count": 23,
     "metadata": {},
     "output_type": "execute_result"
    }
   ],
   "source": [
    "dt.median(numeric_only=True)"
   ]
  },
  {
   "cell_type": "code",
   "execution_count": 24,
   "id": "24ad751a-7265-408b-a53b-11f3b26bc23f",
   "metadata": {},
   "outputs": [
    {
     "data": {
      "text/plain": [
       "ds    0\n",
       "y     0\n",
       "dtype: int64"
      ]
     },
     "execution_count": 24,
     "metadata": {},
     "output_type": "execute_result"
    }
   ],
   "source": [
    "dt.isna().sum()"
   ]
  },
  {
   "cell_type": "code",
   "execution_count": 25,
   "id": "a8fc64bc-be7a-4349-abd5-ed82dbac3e71",
   "metadata": {},
   "outputs": [
    {
     "data": {
      "text/html": [
       "<div>\n",
       "<style scoped>\n",
       "    .dataframe tbody tr th:only-of-type {\n",
       "        vertical-align: middle;\n",
       "    }\n",
       "\n",
       "    .dataframe tbody tr th {\n",
       "        vertical-align: top;\n",
       "    }\n",
       "\n",
       "    .dataframe thead th {\n",
       "        text-align: right;\n",
       "    }\n",
       "</style>\n",
       "<table border=\"1\" class=\"dataframe\">\n",
       "  <thead>\n",
       "    <tr style=\"text-align: right;\">\n",
       "      <th></th>\n",
       "      <th>ds</th>\n",
       "      <th>y</th>\n",
       "    </tr>\n",
       "  </thead>\n",
       "  <tbody>\n",
       "    <tr>\n",
       "      <th>count</th>\n",
       "      <td>11824</td>\n",
       "      <td>11824.000000</td>\n",
       "    </tr>\n",
       "    <tr>\n",
       "      <th>mean</th>\n",
       "      <td>2006-05-07 09:58:12.828146176</td>\n",
       "      <td>23.840426</td>\n",
       "    </tr>\n",
       "    <tr>\n",
       "      <th>min</th>\n",
       "      <td>1990-01-01 00:00:00</td>\n",
       "      <td>17.200000</td>\n",
       "    </tr>\n",
       "    <tr>\n",
       "      <th>25%</th>\n",
       "      <td>1998-03-31 18:00:00</td>\n",
       "      <td>22.300000</td>\n",
       "    </tr>\n",
       "    <tr>\n",
       "      <th>50%</th>\n",
       "      <td>2006-05-14 12:00:00</td>\n",
       "      <td>23.500000</td>\n",
       "    </tr>\n",
       "    <tr>\n",
       "      <th>75%</th>\n",
       "      <td>2014-06-21 06:00:00</td>\n",
       "      <td>25.200000</td>\n",
       "    </tr>\n",
       "    <tr>\n",
       "      <th>max</th>\n",
       "      <td>2022-07-25 00:00:00</td>\n",
       "      <td>32.400000</td>\n",
       "    </tr>\n",
       "    <tr>\n",
       "      <th>std</th>\n",
       "      <td>NaN</td>\n",
       "      <td>2.309899</td>\n",
       "    </tr>\n",
       "  </tbody>\n",
       "</table>\n",
       "</div>"
      ],
      "text/plain": [
       "                                  ds             y\n",
       "count                          11824  11824.000000\n",
       "mean   2006-05-07 09:58:12.828146176     23.840426\n",
       "min              1990-01-01 00:00:00     17.200000\n",
       "25%              1998-03-31 18:00:00     22.300000\n",
       "50%              2006-05-14 12:00:00     23.500000\n",
       "75%              2014-06-21 06:00:00     25.200000\n",
       "max              2022-07-25 00:00:00     32.400000\n",
       "std                              NaN      2.309899"
      ]
     },
     "execution_count": 25,
     "metadata": {},
     "output_type": "execute_result"
    }
   ],
   "source": [
    "dt.describe()"
   ]
  },
  {
   "cell_type": "code",
   "execution_count": 26,
   "id": "3b137591-39f2-476b-a874-bcd401d65d23",
   "metadata": {},
   "outputs": [],
   "source": [
    "df_neural_prophet = dt.rename(columns={'time': 'ds', 'tavg': 'y'})"
   ]
  },
  {
   "cell_type": "code",
   "execution_count": 27,
   "id": "02ab3028-7f4f-41c6-824c-01814ebc330c",
   "metadata": {},
   "outputs": [
    {
     "data": {
      "text/html": [
       "<div>\n",
       "<style scoped>\n",
       "    .dataframe tbody tr th:only-of-type {\n",
       "        vertical-align: middle;\n",
       "    }\n",
       "\n",
       "    .dataframe tbody tr th {\n",
       "        vertical-align: top;\n",
       "    }\n",
       "\n",
       "    .dataframe thead th {\n",
       "        text-align: right;\n",
       "    }\n",
       "</style>\n",
       "<table border=\"1\" class=\"dataframe\">\n",
       "  <thead>\n",
       "    <tr style=\"text-align: right;\">\n",
       "      <th></th>\n",
       "      <th>ds</th>\n",
       "      <th>y</th>\n",
       "    </tr>\n",
       "  </thead>\n",
       "  <tbody>\n",
       "    <tr>\n",
       "      <th>0</th>\n",
       "      <td>1990-01-01</td>\n",
       "      <td>22.9</td>\n",
       "    </tr>\n",
       "    <tr>\n",
       "      <th>1</th>\n",
       "      <td>1990-01-02</td>\n",
       "      <td>21.7</td>\n",
       "    </tr>\n",
       "    <tr>\n",
       "      <th>2</th>\n",
       "      <td>1990-01-03</td>\n",
       "      <td>21.0</td>\n",
       "    </tr>\n",
       "    <tr>\n",
       "      <th>3</th>\n",
       "      <td>1990-01-04</td>\n",
       "      <td>20.8</td>\n",
       "    </tr>\n",
       "    <tr>\n",
       "      <th>4</th>\n",
       "      <td>1990-01-05</td>\n",
       "      <td>20.4</td>\n",
       "    </tr>\n",
       "    <tr>\n",
       "      <th>...</th>\n",
       "      <td>...</td>\n",
       "      <td>...</td>\n",
       "    </tr>\n",
       "    <tr>\n",
       "      <th>11889</th>\n",
       "      <td>2022-07-21</td>\n",
       "      <td>23.7</td>\n",
       "    </tr>\n",
       "    <tr>\n",
       "      <th>11890</th>\n",
       "      <td>2022-07-22</td>\n",
       "      <td>23.2</td>\n",
       "    </tr>\n",
       "    <tr>\n",
       "      <th>11891</th>\n",
       "      <td>2022-07-23</td>\n",
       "      <td>23.1</td>\n",
       "    </tr>\n",
       "    <tr>\n",
       "      <th>11892</th>\n",
       "      <td>2022-07-24</td>\n",
       "      <td>22.8</td>\n",
       "    </tr>\n",
       "    <tr>\n",
       "      <th>11893</th>\n",
       "      <td>2022-07-25</td>\n",
       "      <td>24.1</td>\n",
       "    </tr>\n",
       "  </tbody>\n",
       "</table>\n",
       "<p>11824 rows × 2 columns</p>\n",
       "</div>"
      ],
      "text/plain": [
       "              ds     y\n",
       "0     1990-01-01  22.9\n",
       "1     1990-01-02  21.7\n",
       "2     1990-01-03  21.0\n",
       "3     1990-01-04  20.8\n",
       "4     1990-01-05  20.4\n",
       "...          ...   ...\n",
       "11889 2022-07-21  23.7\n",
       "11890 2022-07-22  23.2\n",
       "11891 2022-07-23  23.1\n",
       "11892 2022-07-24  22.8\n",
       "11893 2022-07-25  24.1\n",
       "\n",
       "[11824 rows x 2 columns]"
      ]
     },
     "execution_count": 27,
     "metadata": {},
     "output_type": "execute_result"
    }
   ],
   "source": [
    "dt"
   ]
  },
  {
   "cell_type": "code",
   "execution_count": null,
   "id": "2281facd-2645-4c60-8c5d-1fffb62fe516",
   "metadata": {},
   "outputs": [],
   "source": [
    "# 2. Train Model"
   ]
  },
  {
   "cell_type": "code",
   "execution_count": 28,
   "id": "a905d419-e61c-4e16-bdb9-3d6955318cda",
   "metadata": {},
   "outputs": [],
   "source": [
    "m = NeuralProphet()"
   ]
  },
  {
   "cell_type": "code",
   "execution_count": 31,
   "id": "84b94fd1-ec04-485b-b756-6c2bef753947",
   "metadata": {},
   "outputs": [
    {
     "ename": "RuntimeError",
     "evalue": "Model has been fitted already. Please initialize a new model to fit again.",
     "output_type": "error",
     "traceback": [
      "\u001b[1;31m---------------------------------------------------------------------------\u001b[0m",
      "\u001b[1;31mRuntimeError\u001b[0m                              Traceback (most recent call last)",
      "Cell \u001b[1;32mIn[31], line 1\u001b[0m\n\u001b[1;32m----> 1\u001b[0m model \u001b[38;5;241m=\u001b[39m \u001b[43mm\u001b[49m\u001b[38;5;241;43m.\u001b[39;49m\u001b[43mfit\u001b[49m\u001b[43m(\u001b[49m\u001b[43mdt\u001b[49m\u001b[43m,\u001b[49m\u001b[43m \u001b[49m\u001b[43mfreq\u001b[49m\u001b[38;5;241;43m=\u001b[39;49m\u001b[38;5;124;43m'\u001b[39;49m\u001b[38;5;124;43mD\u001b[39;49m\u001b[38;5;124;43m'\u001b[39;49m\u001b[43m,\u001b[49m\u001b[43m \u001b[49m\u001b[43mepochs\u001b[49m\u001b[38;5;241;43m=\u001b[39;49m\u001b[38;5;241;43m1000\u001b[39;49m\u001b[43m)\u001b[49m\n",
      "File \u001b[1;32mC:\\Python312\\Lib\\site-packages\\neuralprophet\\forecaster.py:963\u001b[0m, in \u001b[0;36mNeuralProphet.fit\u001b[1;34m(self, df, freq, validation_df, epochs, batch_size, learning_rate, early_stopping, minimal, metrics, progress, checkpointing, continue_training, num_workers)\u001b[0m\n\u001b[0;32m    906\u001b[0m \u001b[38;5;250m\u001b[39m\u001b[38;5;124;03m\"\"\"Train, and potentially evaluate model.\u001b[39;00m\n\u001b[0;32m    907\u001b[0m \n\u001b[0;32m    908\u001b[0m \u001b[38;5;124;03mTraining/validation metrics may be distorted in case of auto-regression,\u001b[39;00m\n\u001b[1;32m   (...)\u001b[0m\n\u001b[0;32m    960\u001b[0m \u001b[38;5;124;03m        metrics with training and potentially evaluation metrics\u001b[39;00m\n\u001b[0;32m    961\u001b[0m \u001b[38;5;124;03m\"\"\"\u001b[39;00m\n\u001b[0;32m    962\u001b[0m \u001b[38;5;28;01mif\u001b[39;00m \u001b[38;5;28mself\u001b[39m\u001b[38;5;241m.\u001b[39mfitted:\n\u001b[1;32m--> 963\u001b[0m     \u001b[38;5;28;01mraise\u001b[39;00m \u001b[38;5;167;01mRuntimeError\u001b[39;00m(\u001b[38;5;124m\"\u001b[39m\u001b[38;5;124mModel has been fitted already. Please initialize a new model to fit again.\u001b[39m\u001b[38;5;124m\"\u001b[39m)\n\u001b[0;32m    965\u001b[0m \u001b[38;5;66;03m# Configuration\u001b[39;00m\n\u001b[0;32m    966\u001b[0m \u001b[38;5;28;01mif\u001b[39;00m epochs \u001b[38;5;129;01mis\u001b[39;00m \u001b[38;5;129;01mnot\u001b[39;00m \u001b[38;5;28;01mNone\u001b[39;00m:\n",
      "\u001b[1;31mRuntimeError\u001b[0m: Model has been fitted already. Please initialize a new model to fit again."
     ]
    }
   ],
   "source": [
    "model = m.fit(dt, freq='D', epochs=1000)"
   ]
  },
  {
   "cell_type": "code",
   "execution_count": null,
   "id": "1c559c0d-8da5-4446-a444-8d57d44b4bca",
   "metadata": {},
   "outputs": [],
   "source": [
    "# 3. Forecast Away"
   ]
  },
  {
   "cell_type": "code",
   "execution_count": 40,
   "id": "5e2f77f7-0c27-46af-9b89-e6b42c8a17a4",
   "metadata": {},
   "outputs": [
    {
     "name": "stderr",
     "output_type": "stream",
     "text": [
      "WARNING - (py.warnings._showwarnmsg) - C:\\Python312\\Lib\\site-packages\\neuralprophet\\df_utils.py:1152: FutureWarning:\n",
      "\n",
      "Series.view is deprecated and will be removed in a future version. Use ``astype`` as an alternative to change the dtype.\n",
      "\n",
      "\n",
      "INFO - (NP.df_utils._infer_frequency) - Major frequency D corresponds to 99.518% of the data.\n",
      "WARNING - (py.warnings._showwarnmsg) - C:\\Python312\\Lib\\site-packages\\neuralprophet\\df_utils.py:1152: FutureWarning:\n",
      "\n",
      "Series.view is deprecated and will be removed in a future version. Use ``astype`` as an alternative to change the dtype.\n",
      "\n",
      "\n",
      "WARNING - (py.warnings._showwarnmsg) - C:\\Python312\\Lib\\site-packages\\neuralprophet\\df_utils.py:1152: FutureWarning:\n",
      "\n",
      "Series.view is deprecated and will be removed in a future version. Use ``astype`` as an alternative to change the dtype.\n",
      "\n",
      "\n",
      "INFO - (NP.df_utils._infer_frequency) - Defined frequency is equal to major frequency - D\n",
      "INFO - (NP.df_utils.return_df_in_original_format) - Returning df with no ID column\n",
      "WARNING - (py.warnings._showwarnmsg) - C:\\Python312\\Lib\\site-packages\\neuralprophet\\df_utils.py:1152: FutureWarning:\n",
      "\n",
      "Series.view is deprecated and will be removed in a future version. Use ``astype`` as an alternative to change the dtype.\n",
      "\n",
      "\n",
      "INFO - (NP.df_utils._infer_frequency) - Major frequency D corresponds to 99.833% of the data.\n",
      "WARNING - (py.warnings._showwarnmsg) - C:\\Python312\\Lib\\site-packages\\neuralprophet\\df_utils.py:1152: FutureWarning:\n",
      "\n",
      "Series.view is deprecated and will be removed in a future version. Use ``astype`` as an alternative to change the dtype.\n",
      "\n",
      "\n",
      "WARNING - (py.warnings._showwarnmsg) - C:\\Python312\\Lib\\site-packages\\neuralprophet\\df_utils.py:1152: FutureWarning:\n",
      "\n",
      "Series.view is deprecated and will be removed in a future version. Use ``astype`` as an alternative to change the dtype.\n",
      "\n",
      "\n",
      "INFO - (NP.df_utils._infer_frequency) - Defined frequency is equal to major frequency - D\n",
      "WARNING - (py.warnings._showwarnmsg) - C:\\Python312\\Lib\\site-packages\\neuralprophet\\df_utils.py:1152: FutureWarning:\n",
      "\n",
      "Series.view is deprecated and will be removed in a future version. Use ``astype`` as an alternative to change the dtype.\n",
      "\n",
      "\n",
      "INFO - (NP.df_utils._infer_frequency) - Major frequency D corresponds to 99.833% of the data.\n",
      "WARNING - (py.warnings._showwarnmsg) - C:\\Python312\\Lib\\site-packages\\neuralprophet\\df_utils.py:1152: FutureWarning:\n",
      "\n",
      "Series.view is deprecated and will be removed in a future version. Use ``astype`` as an alternative to change the dtype.\n",
      "\n",
      "\n",
      "WARNING - (py.warnings._showwarnmsg) - C:\\Python312\\Lib\\site-packages\\neuralprophet\\df_utils.py:1152: FutureWarning:\n",
      "\n",
      "Series.view is deprecated and will be removed in a future version. Use ``astype`` as an alternative to change the dtype.\n",
      "\n",
      "\n",
      "INFO - (NP.df_utils._infer_frequency) - Defined frequency is equal to major frequency - D\n"
     ]
    },
    {
     "data": {
      "application/vnd.jupyter.widget-view+json": {
       "model_id": "2bbb42f000994ba39528bea947de2db3",
       "version_major": 2,
       "version_minor": 0
      },
      "text/plain": [
       "Predicting: 93it [00:00, ?it/s]"
      ]
     },
     "metadata": {},
     "output_type": "display_data"
    },
    {
     "name": "stderr",
     "output_type": "stream",
     "text": [
      "INFO - (NP.df_utils.return_df_in_original_format) - Returning df with no ID column\n"
     ]
    },
    {
     "data": {
      "text/html": [
       "<div>\n",
       "<style scoped>\n",
       "    .dataframe tbody tr th:only-of-type {\n",
       "        vertical-align: middle;\n",
       "    }\n",
       "\n",
       "    .dataframe tbody tr th {\n",
       "        vertical-align: top;\n",
       "    }\n",
       "\n",
       "    .dataframe thead th {\n",
       "        text-align: right;\n",
       "    }\n",
       "</style>\n",
       "<table border=\"1\" class=\"dataframe\">\n",
       "  <thead>\n",
       "    <tr style=\"text-align: right;\">\n",
       "      <th></th>\n",
       "      <th>ds</th>\n",
       "      <th>y</th>\n",
       "      <th>yhat1</th>\n",
       "      <th>trend</th>\n",
       "      <th>season_yearly</th>\n",
       "      <th>season_weekly</th>\n",
       "    </tr>\n",
       "  </thead>\n",
       "  <tbody>\n",
       "    <tr>\n",
       "      <th>0</th>\n",
       "      <td>2022-07-26</td>\n",
       "      <td>None</td>\n",
       "      <td>23.139803</td>\n",
       "      <td>23.814678</td>\n",
       "      <td>-0.677623</td>\n",
       "      <td>0.002748</td>\n",
       "    </tr>\n",
       "    <tr>\n",
       "      <th>1</th>\n",
       "      <td>2022-07-27</td>\n",
       "      <td>None</td>\n",
       "      <td>23.142429</td>\n",
       "      <td>23.814539</td>\n",
       "      <td>-0.689498</td>\n",
       "      <td>0.017389</td>\n",
       "    </tr>\n",
       "    <tr>\n",
       "      <th>2</th>\n",
       "      <td>2022-07-28</td>\n",
       "      <td>None</td>\n",
       "      <td>23.127274</td>\n",
       "      <td>23.814400</td>\n",
       "      <td>-0.701051</td>\n",
       "      <td>0.013927</td>\n",
       "    </tr>\n",
       "    <tr>\n",
       "      <th>3</th>\n",
       "      <td>2022-07-29</td>\n",
       "      <td>None</td>\n",
       "      <td>23.082314</td>\n",
       "      <td>23.814260</td>\n",
       "      <td>-0.712271</td>\n",
       "      <td>-0.019677</td>\n",
       "    </tr>\n",
       "    <tr>\n",
       "      <th>4</th>\n",
       "      <td>2022-07-30</td>\n",
       "      <td>None</td>\n",
       "      <td>23.062611</td>\n",
       "      <td>23.814119</td>\n",
       "      <td>-0.723064</td>\n",
       "      <td>-0.028445</td>\n",
       "    </tr>\n",
       "  </tbody>\n",
       "</table>\n",
       "</div>"
      ],
      "text/plain": [
       "          ds     y      yhat1      trend  season_yearly  season_weekly\n",
       "0 2022-07-26  None  23.139803  23.814678      -0.677623       0.002748\n",
       "1 2022-07-27  None  23.142429  23.814539      -0.689498       0.017389\n",
       "2 2022-07-28  None  23.127274  23.814400      -0.701051       0.013927\n",
       "3 2022-07-29  None  23.082314  23.814260      -0.712271      -0.019677\n",
       "4 2022-07-30  None  23.062611  23.814119      -0.723064      -0.028445"
      ]
     },
     "execution_count": 40,
     "metadata": {},
     "output_type": "execute_result"
    }
   ],
   "source": [
    "future = m.make_future_dataframe(dt, periods=600)\n",
    "forecast = m.predict(future)\n",
    "forecast.head()"
   ]
  },
  {
   "cell_type": "code",
   "execution_count": 35,
   "id": "9f4d2f28-8e5d-4730-9199-9b8ebe306ce2",
   "metadata": {},
   "outputs": [
    {
     "name": "stderr",
     "output_type": "stream",
     "text": [
      "WARNING - (py.warnings._showwarnmsg) - C:\\Python312\\Lib\\site-packages\\neuralprophet\\plot_forecast_plotly.py:283: FutureWarning: Downcasting object dtype arrays on .fillna, .ffill, .bfill is deprecated and will change in a future version. Call result.infer_objects(copy=False) instead. To opt-in to the future behavior, set `pd.set_option('future.no_silent_downcasting', True)`\n",
      "  fcst = fcst.fillna(value=np.nan)\n",
      "\n",
      "WARNING - (py.warnings._showwarnmsg) - C:\\Python312\\Lib\\site-packages\\neuralprophet\\plot_forecast_plotly.py:410: FutureWarning:\n",
      "\n",
      "The behavior of DatetimeProperties.to_pydatetime is deprecated, in a future version this will return a Series containing python datetime objects instead of an ndarray. To retain the old behavior, call `np.array` on the result\n",
      "\n",
      "\n",
      "WARNING - (py.warnings._showwarnmsg) - C:\\Python312\\Lib\\site-packages\\neuralprophet\\plot_forecast_plotly.py:410: FutureWarning:\n",
      "\n",
      "The behavior of DatetimeProperties.to_pydatetime is deprecated, in a future version this will return a Series containing python datetime objects instead of an ndarray. To retain the old behavior, call `np.array` on the result\n",
      "\n",
      "\n",
      "WARNING - (py.warnings._showwarnmsg) - C:\\Python312\\Lib\\site-packages\\neuralprophet\\plot_forecast_plotly.py:410: FutureWarning:\n",
      "\n",
      "The behavior of DatetimeProperties.to_pydatetime is deprecated, in a future version this will return a Series containing python datetime objects instead of an ndarray. To retain the old behavior, call `np.array` on the result\n",
      "\n",
      "\n"
     ]
    }
   ],
   "source": [
    "plt2 = m.plot_components(forecast)"
   ]
  },
  {
   "cell_type": "code",
   "execution_count": 36,
   "id": "4ba51dfe-cbe1-479a-8290-f904810b129b",
   "metadata": {},
   "outputs": [
    {
     "name": "stderr",
     "output_type": "stream",
     "text": [
      "WARNING - (py.warnings._showwarnmsg) - C:\\Python312\\Lib\\site-packages\\neuralprophet\\plot_forecast_plotly.py:283: FutureWarning:\n",
      "\n",
      "Downcasting object dtype arrays on .fillna, .ffill, .bfill is deprecated and will change in a future version. Call result.infer_objects(copy=False) instead. To opt-in to the future behavior, set `pd.set_option('future.no_silent_downcasting', True)`\n",
      "\n",
      "\n",
      "WARNING - (py.warnings._showwarnmsg) - C:\\Python312\\Lib\\site-packages\\neuralprophet\\plot_forecast_plotly.py:410: FutureWarning:\n",
      "\n",
      "The behavior of DatetimeProperties.to_pydatetime is deprecated, in a future version this will return a Series containing python datetime objects instead of an ndarray. To retain the old behavior, call `np.array` on the result\n",
      "\n",
      "\n",
      "WARNING - (py.warnings._showwarnmsg) - C:\\Python312\\Lib\\site-packages\\neuralprophet\\plot_forecast_plotly.py:410: FutureWarning:\n",
      "\n",
      "The behavior of DatetimeProperties.to_pydatetime is deprecated, in a future version this will return a Series containing python datetime objects instead of an ndarray. To retain the old behavior, call `np.array` on the result\n",
      "\n",
      "\n",
      "WARNING - (py.warnings._showwarnmsg) - C:\\Python312\\Lib\\site-packages\\neuralprophet\\plot_forecast_plotly.py:410: FutureWarning:\n",
      "\n",
      "The behavior of DatetimeProperties.to_pydatetime is deprecated, in a future version this will return a Series containing python datetime objects instead of an ndarray. To retain the old behavior, call `np.array` on the result\n",
      "\n",
      "\n"
     ]
    }
   ],
   "source": [
    "plt2 = m.plot_components(forecast)"
   ]
  },
  {
   "cell_type": "code",
   "execution_count": 41,
   "id": "2eba6aa3-fa16-4a31-bf37-299e19a9f745",
   "metadata": {},
   "outputs": [
    {
     "data": {
      "text/html": [
       "<div>\n",
       "<style scoped>\n",
       "    .dataframe tbody tr th:only-of-type {\n",
       "        vertical-align: middle;\n",
       "    }\n",
       "\n",
       "    .dataframe tbody tr th {\n",
       "        vertical-align: top;\n",
       "    }\n",
       "\n",
       "    .dataframe thead th {\n",
       "        text-align: right;\n",
       "    }\n",
       "</style>\n",
       "<table border=\"1\" class=\"dataframe\">\n",
       "  <thead>\n",
       "    <tr style=\"text-align: right;\">\n",
       "      <th></th>\n",
       "      <th>ds</th>\n",
       "      <th>y</th>\n",
       "      <th>yhat1</th>\n",
       "      <th>trend</th>\n",
       "      <th>season_yearly</th>\n",
       "      <th>season_weekly</th>\n",
       "    </tr>\n",
       "  </thead>\n",
       "  <tbody>\n",
       "    <tr>\n",
       "      <th>595</th>\n",
       "      <td>2024-03-12</td>\n",
       "      <td>None</td>\n",
       "      <td>26.081738</td>\n",
       "      <td>23.731586</td>\n",
       "      <td>2.347395</td>\n",
       "      <td>0.002756</td>\n",
       "    </tr>\n",
       "    <tr>\n",
       "      <th>596</th>\n",
       "      <td>2024-03-13</td>\n",
       "      <td>None</td>\n",
       "      <td>26.178753</td>\n",
       "      <td>23.731447</td>\n",
       "      <td>2.429944</td>\n",
       "      <td>0.017360</td>\n",
       "    </tr>\n",
       "    <tr>\n",
       "      <th>597</th>\n",
       "      <td>2024-03-14</td>\n",
       "      <td>None</td>\n",
       "      <td>26.255264</td>\n",
       "      <td>23.731308</td>\n",
       "      <td>2.510024</td>\n",
       "      <td>0.013932</td>\n",
       "    </tr>\n",
       "    <tr>\n",
       "      <th>598</th>\n",
       "      <td>2024-03-15</td>\n",
       "      <td>None</td>\n",
       "      <td>26.299349</td>\n",
       "      <td>23.731169</td>\n",
       "      <td>2.587835</td>\n",
       "      <td>-0.019654</td>\n",
       "    </tr>\n",
       "    <tr>\n",
       "      <th>599</th>\n",
       "      <td>2024-03-16</td>\n",
       "      <td>None</td>\n",
       "      <td>26.365784</td>\n",
       "      <td>23.731030</td>\n",
       "      <td>2.663156</td>\n",
       "      <td>-0.028401</td>\n",
       "    </tr>\n",
       "  </tbody>\n",
       "</table>\n",
       "</div>"
      ],
      "text/plain": [
       "            ds     y      yhat1      trend  season_yearly  season_weekly\n",
       "595 2024-03-12  None  26.081738  23.731586       2.347395       0.002756\n",
       "596 2024-03-13  None  26.178753  23.731447       2.429944       0.017360\n",
       "597 2024-03-14  None  26.255264  23.731308       2.510024       0.013932\n",
       "598 2024-03-15  None  26.299349  23.731169       2.587835      -0.019654\n",
       "599 2024-03-16  None  26.365784  23.731030       2.663156      -0.028401"
      ]
     },
     "execution_count": 41,
     "metadata": {},
     "output_type": "execute_result"
    }
   ],
   "source": [
    "forecast.tail()"
   ]
  },
  {
   "cell_type": "code",
   "execution_count": 68,
   "id": "39ef838e-b16a-4f7b-b843-84fcb980094d",
   "metadata": {},
   "outputs": [],
   "source": [
    "import numpy as np\n",
    "y_true = [26.081738, 26.178753, 26.255264, 26.299349, 26.365784]\n",
    "\n",
    "# Predicted values\n",
    "y_pred = [23.731586, 23.731447, 23.731308, 23.731169, 23.731030]\n",
    "\n",
    "# Calculate mean squared error\n",
    "mse = np.mean((np.array(y_true) - np.array(y_pred))**2)\n",
    "\n",
    "# Calculate root mean squared error\n",
    "rmse = np.sqrt(mse)\n",
    "\n",
    "y_true = [26.081738, 26.178753, 26.255264, 26.299349, 26.365784]\n",
    "\n",
    "# Predicted values\n",
    "y_pred = [23.731586, 23.731447, 23.731308, 23.731169, 23.731030]\n",
    "\n",
    "# Calculate absolute percentage errors\n",
    "ape = np.abs((np.array(y_true) - np.array(y_pred)) / np.array(y_true))\n",
    "\n",
    "# Calculate mean of absolute percentage errors\n",
    "mape = np.mean(ape) * 100\n",
    "\n",
    "sape = np.abs(np.array(y_true) - np.array(y_pred)) / (np.abs(np.array(y_true)) + np.abs(np.array(y_pred)))\n",
    "\n",
    "# Calculate mean of absolute percentage errors\n",
    "smape = np.mean(ape) * 100"
   ]
  },
  {
   "cell_type": "code",
   "execution_count": 69,
   "id": "caa77764-65e0-4c79-9025-671cd53ff2ea",
   "metadata": {},
   "outputs": [
    {
     "name": "stdout",
     "output_type": "stream",
     "text": [
      "MSE : 6.2840704247184025\n",
      "RMSE : 2.506804823818241\n",
      "MAPE : 9.546114023528022\n",
      "SMAPE : 9.546114023528022\n"
     ]
    }
   ],
   "source": [
    "print(\"MSE :\", mse)\n",
    "print(\"RMSE :\", rmse)\n",
    "print(\"MAPE :\",mape)\n",
    "print(\"SMAPE :\",smape)"
   ]
  },
  {
   "cell_type": "code",
   "execution_count": null,
   "id": "4dbfbd9d-e96c-40db-8685-881fcd709060",
   "metadata": {},
   "outputs": [],
   "source": []
  }
 ],
 "metadata": {
  "kernelspec": {
   "display_name": "Python 3 (ipykernel)",
   "language": "python",
   "name": "python3"
  },
  "language_info": {
   "codemirror_mode": {
    "name": "ipython",
    "version": 3
   },
   "file_extension": ".py",
   "mimetype": "text/x-python",
   "name": "python",
   "nbconvert_exporter": "python",
   "pygments_lexer": "ipython3",
   "version": "3.12.2"
  }
 },
 "nbformat": 4,
 "nbformat_minor": 5
}
